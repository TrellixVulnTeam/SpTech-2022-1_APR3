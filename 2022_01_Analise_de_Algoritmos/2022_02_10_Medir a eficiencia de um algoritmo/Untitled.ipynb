{
 "cells": [
  {
   "cell_type": "code",
   "execution_count": 1,
   "id": "5ffcb647",
   "metadata": {},
   "outputs": [
    {
     "name": "stdout",
     "output_type": "stream",
     "text": [
      "1250025000\n",
      "[1, 2, 3, 4, 5, 6, 7, 8, 9, 10]\n",
      "[1, 3, 6, 10, 15, 21, 28, 36, 45, 55]\n"
     ]
    }
   ],
   "source": [
    "varx = []\n",
    "vary = []\n",
    "\n",
    "def sum_of_n_init():\n",
    "    acumul_acelerate = 0\n",
    "    for i in range(1, 11):\n",
    "        acumul_acelerate = acumul_acelerate + i\n",
    "        varx.append(acumul_acelerate)\n",
    "        vary.append(i)\n",
    "\n",
    "def sum_of_n_init_two(n):\n",
    "    acumul_acelerate = 0\n",
    "    for i in range(1, n+1):\n",
    "        acumul_acelerate = acumul_acelerate + i\n",
    "    return acumul_acelerate\n",
    "\n",
    "velocity_test = 50000\n",
    "\n",
    "sum_of_n_init()\n",
    "print(sum_of_n_init_two(velocity_test))\n",
    "print(vary)\n",
    "print(varx)"
   ]
  },
  {
   "cell_type": "code",
   "execution_count": 2,
   "id": "1d3099cf",
   "metadata": {},
   "outputs": [
    {
     "ename": "NameError",
     "evalue": "name 'plt' is not defined",
     "output_type": "error",
     "traceback": [
      "\u001b[1;31m---------------------------------------------------------------------------\u001b[0m",
      "\u001b[1;31mNameError\u001b[0m                                 Traceback (most recent call last)",
      "Input \u001b[1;32mIn [2]\u001b[0m, in \u001b[0;36m<module>\u001b[1;34m\u001b[0m\n\u001b[1;32m----> 1\u001b[0m \u001b[43mplt\u001b[49m\u001b[38;5;241m.\u001b[39mplot(varx,vary)\n",
      "\u001b[1;31mNameError\u001b[0m: name 'plt' is not defined"
     ]
    }
   ],
   "source": [
    "plt.plot(varx,vary)"
   ]
  },
  {
   "cell_type": "code",
   "execution_count": 3,
   "id": "3e64601a",
   "metadata": {},
   "outputs": [
    {
     "name": "stdout",
     "output_type": "stream",
     "text": [
      "[1, 3, 6, 10, 15, 21, 28, 36, 45, 55]\n"
     ]
    }
   ],
   "source": [
    "print(varx)"
   ]
  },
  {
   "cell_type": "code",
   "execution_count": 1,
   "id": "80b56431",
   "metadata": {},
   "outputs": [],
   "source": [
    "import matplotlib.pyplot as plt"
   ]
  },
  {
   "cell_type": "code",
   "execution_count": 2,
   "id": "9ed8afaf",
   "metadata": {},
   "outputs": [
    {
     "ename": "NameError",
     "evalue": "name 'varx' is not defined",
     "output_type": "error",
     "traceback": [
      "\u001b[1;31m---------------------------------------------------------------------------\u001b[0m",
      "\u001b[1;31mNameError\u001b[0m                                 Traceback (most recent call last)",
      "Input \u001b[1;32mIn [2]\u001b[0m, in \u001b[0;36m<module>\u001b[1;34m\u001b[0m\n\u001b[1;32m----> 1\u001b[0m plt\u001b[38;5;241m.\u001b[39mplot(\u001b[43mvarx\u001b[49m, vary)\n\u001b[0;32m      2\u001b[0m plt\u001b[38;5;241m.\u001b[39mshow()\n",
      "\u001b[1;31mNameError\u001b[0m: name 'varx' is not defined"
     ]
    }
   ],
   "source": [
    "plt.plot(varx, vary)\n",
    "plt.show()"
   ]
  },
  {
   "cell_type": "code",
   "execution_count": 3,
   "id": "054b6fb3",
   "metadata": {},
   "outputs": [
    {
     "ename": "NameError",
     "evalue": "name 'varx' is not defined",
     "output_type": "error",
     "traceback": [
      "\u001b[1;31m---------------------------------------------------------------------------\u001b[0m",
      "\u001b[1;31mNameError\u001b[0m                                 Traceback (most recent call last)",
      "Input \u001b[1;32mIn [3]\u001b[0m, in \u001b[0;36m<module>\u001b[1;34m\u001b[0m\n\u001b[1;32m----> 1\u001b[0m \u001b[38;5;28mprint\u001b[39m(\u001b[43mvarx\u001b[49m)\n",
      "\u001b[1;31mNameError\u001b[0m: name 'varx' is not defined"
     ]
    }
   ],
   "source": [
    "print(varx)\n"
   ]
  },
  {
   "cell_type": "code",
   "execution_count": 4,
   "id": "6f364a8b",
   "metadata": {},
   "outputs": [
    {
     "name": "stdout",
     "output_type": "stream",
     "text": [
      "1250025000\n",
      "[1, 2, 3, 4, 5, 6, 7, 8, 9, 10]\n",
      "[1, 3, 6, 10, 15, 21, 28, 36, 45, 55]\n"
     ]
    }
   ],
   "source": [
    "varx = []\n",
    "vary = []\n",
    "\n",
    "def sum_of_n_init():\n",
    "    acumul_acelerate = 0\n",
    "    for i in range(1, 11):\n",
    "        acumul_acelerate = acumul_acelerate + i\n",
    "        varx.append(acumul_acelerate)\n",
    "        vary.append(i)\n",
    "\n",
    "def sum_of_n_init_two(n):\n",
    "    acumul_acelerate = 0\n",
    "    for i in range(1, n+1):\n",
    "        acumul_acelerate = acumul_acelerate + i\n",
    "    return acumul_acelerate\n",
    "\n",
    "velocity_test = 50000\n",
    "\n",
    "sum_of_n_init()\n",
    "print(sum_of_n_init_two(velocity_test))\n",
    "print(vary)\n",
    "print(varx)"
   ]
  },
  {
   "cell_type": "code",
   "execution_count": 5,
   "id": "a4ee1897",
   "metadata": {},
   "outputs": [
    {
     "data": {
      "image/png": "[encoded data removed]",
      "text/plain": [
       "<Figure size 432x288 with 1 Axes>"
      ]
     },
     "metadata": {
      "needs_background": "light"
     },
     "output_type": "display_data"
    }
   ],
   "source": [
    "plt.plot(varx, vary)\n",
    "plt.show()"
   ]
  },
  {
   "cell_type": "code",
   "execution_count": 6,
   "id": "8919d2cc",
   "metadata": {},
   "outputs": [
    {
     "data": {
      "image/png": "[encoded data removed]",
      "text/plain": [
       "<Figure size 432x288 with 1 Axes>"
      ]
     },
     "metadata": {
      "needs_background": "light"
     },
     "output_type": "display_data"
    }
   ],
   "source": [
    "plt.plot(vary, varx)\n",
    "plt.show()"
   ]
  },
  {
   "cell_type": "code",
   "execution_count": null,
   "id": "222ab9ee",
   "metadata": {},
   "outputs": [],
   "source": []
  }
 ],
 "metadata": {
  "kernelspec": {
   "display_name": "Python 3 (ipykernel)",
   "language": "python",
   "name": "python3"
  },
  "language_info": {
   "codemirror_mode": {
    "name": "ipython",
    "version": 3
   },
   "file_extension": ".py",
   "mimetype": "text/x-python",
   "name": "python",
   "nbconvert_exporter": "python",
   "pygments_lexer": "ipython3",
   "version": "3.10.1"
  }
 },
 "nbformat": 4,
 "nbformat_minor": 5
}
